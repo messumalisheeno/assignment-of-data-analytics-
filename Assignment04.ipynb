{
 "cells": [
  {
   "cell_type": "markdown",
   "id": "48408706-c4d9-4c55-8fdf-96c35f2d60ee",
   "metadata": {},
   "source": [
    "### Q1. my_tuple = ( (1, 2, 3), [4, 5, 6], (&#39;apple&#39;, &#39;banana&#39;, &#39;cherry&#39;), [7, 8, 9] )\n",
    "## • Print all elements from my_tuple on a new line (using for loop)\n",
    "## • Create a new tuple by concatenating the first and last elements of my_tuple"
   ]
  },
  {
   "cell_type": "markdown",
   "id": "e58c9b00-2f77-4e8f-8813-4ed880554b45",
   "metadata": {},
   "source": [
    "### ANSWER NO 1\n"
   ]
  },
  {
   "cell_type": "code",
   "execution_count": 5,
   "id": "cdd342ca-053a-4069-a855-65132a3f79d2",
   "metadata": {},
   "outputs": [],
   "source": [
    "my_tuple = ( (1, 2, 3), [4, 5, 6], ('apple', 'banana', 'cherry'), [7, 8, 9] )\n"
   ]
  },
  {
   "cell_type": "markdown",
   "id": "e5e55a71-1970-4f35-b943-bb67a6869af2",
   "metadata": {},
   "source": [
    "for i in my_tuple:\n",
    "    print(i)"
   ]
  },
  {
   "cell_type": "code",
   "execution_count": 23,
   "id": "ff9a7c08-4e7d-4404-8c2f-32ed4e6e7087",
   "metadata": {},
   "outputs": [
    {
     "ename": "TypeError",
     "evalue": "can only concatenate tuple (not \"list\") to tuple",
     "output_type": "error",
     "traceback": [
      "\u001b[1;31m---------------------------------------------------------------------------\u001b[0m",
      "\u001b[1;31mTypeError\u001b[0m                                 Traceback (most recent call last)",
      "Cell \u001b[1;32mIn[23], line 1\u001b[0m\n\u001b[1;32m----> 1\u001b[0m new_tuple \u001b[38;5;241m=\u001b[39m my_tuple[\u001b[38;5;241m0\u001b[39m] \u001b[38;5;241m+\u001b[39m my_tuple[\u001b[38;5;241m-\u001b[39m\u001b[38;5;241m1\u001b[39m]\n",
      "\u001b[1;31mTypeError\u001b[0m: can only concatenate tuple (not \"list\") to tuple"
     ]
    }
   ],
   "source": [
    "\n",
    "new_tuple = my_tuple[0] + my_tuple[-1]\n"
   ]
  },
  {
   "cell_type": "markdown",
   "id": "3ed907e5-4c16-41a1-9015-fe97e5c0a3cd",
   "metadata": {},
   "source": [
    "## Q2. inventory = { &quot;The Great Gatsby&quot;: {&quot;price&quot;: 10.99, &quot;quantity&quot;: 5}, &quot;Rich dad poor dad&quot;: {&quot;price&quot;:\n",
    "## 8.99, &quot;quantity&quot;: 8}, &quot;Harry Potter&quot;: {&quot;price&quot;: 12.50, &quot;quantity&quot;: 2}, }\n",
    "## • Add a new book in inventory using method and get all book titles using method\n",
    "## • Remove a book if it&#39;s out of stock"
   ]
  },
  {
   "cell_type": "code",
   "execution_count": 22,
   "id": "9313f079-b1ba-4d89-8825-d122303f1cac",
   "metadata": {},
   "outputs": [],
   "source": [
    "inventory = {\n",
    "    \"the great gatsby\":{\"price:10.99\",\"quantity:5\"},\n",
    "    \"rich dad poor dad\":{\"price:8.99\",\"quantity:8\"},\n",
    "    \"harry potter\":{\"price:12.50\",\"quantity:2\"}\n"
   ]
  },
  {
   "cell_type": "code",
   "execution_count": 36,
   "id": "96167677-edc1-47fc-b428-1436682b182d",
   "metadata": {},
   "outputs": [
    {
     "ename": "SyntaxError",
     "evalue": "invalid syntax. Perhaps you forgot a comma? (2030168502.py, line 1)",
     "output_type": "error",
     "traceback": [
      "\u001b[1;36m  Cell \u001b[1;32mIn[36], line 1\u001b[1;36m\u001b[0m\n\u001b[1;33m    inventory[survival adventure] = {\"price:11.30\",\"quantity:3\"}\u001b[0m\n\u001b[1;37m              ^\u001b[0m\n\u001b[1;31mSyntaxError\u001b[0m\u001b[1;31m:\u001b[0m invalid syntax. Perhaps you forgot a comma?\n"
     ]
    }
   ],
   "source": [
    "inventory.get(\"silver adventure\",\"price:11.\")"
   ]
  },
  {
   "cell_type": "code",
   "execution_count": 24,
   "id": "5658a8ba-0f6d-4049-8f61-26f68cde9888",
   "metadata": {},
   "outputs": [
    {
     "data": {
      "text/plain": [
       "dict_keys(['the great gatsby', 'rich dad poor dad', 'harry potter'])"
      ]
     },
     "execution_count": 24,
     "metadata": {},
     "output_type": "execute_result"
    }
   ],
   "source": [
    "inventory.keys()"
   ]
  },
  {
   "cell_type": "code",
   "execution_count": 30,
   "id": "90e2e419-54f6-4600-835d-126124f80385",
   "metadata": {},
   "outputs": [
    {
     "data": {
      "text/plain": [
       "{'price:10.99', 'quantity:5'}"
      ]
     },
     "execution_count": 30,
     "metadata": {},
     "output_type": "execute_result"
    }
   ],
   "source": [
    "inventory.pop(\"the great gatsby\")"
   ]
  },
  {
   "cell_type": "code",
   "execution_count": 32,
   "id": "fd3df4d5-abc2-4b49-a655-ad5b817942b0",
   "metadata": {},
   "outputs": [
    {
     "data": {
      "text/plain": [
       "{'rich dad poor dad': {'price:8.99', 'quantity:8'},\n",
       " 'harry potter': {'price:12.50', 'quantity:2'}}"
      ]
     },
     "execution_count": 32,
     "metadata": {},
     "output_type": "execute_result"
    }
   ],
   "source": [
    "inventory"
   ]
  },
  {
   "cell_type": "markdown",
   "id": "b1eadf80-ab68-4013-948c-a78ab2991351",
   "metadata": {},
   "source": [
    "## Q4. You are given a list that contains some duplicate items. Remove the duplicates by converting the list to a set. shopping_list = [\"apple\", \"banana\", \"apple\", \"orange\", \"banana\", \"grape\"]"
   ]
  },
  {
   "cell_type": "code",
   "execution_count": 3,
   "id": "08505036-e8f8-44a6-80b1-1529a870539d",
   "metadata": {},
   "outputs": [
    {
     "name": "stdout",
     "output_type": "stream",
     "text": [
      "['orange', 'apple', 'banana', 'grape']\n"
     ]
    }
   ],
   "source": [
    "shopping_list = [\"apple\", \"banana\", \"apple\", \"orange\", \"banana\", \"grape\"]\n",
    "unique_items = set(shopping_list)\n",
    "unique_shopping_list = list(unique_items)\n",
    "print(unique_shopping_list)"
   ]
  },
  {
   "cell_type": "markdown",
   "id": "6fc75b49-ac82-4c64-8e20-ba4f33cdb9bb",
   "metadata": {},
   "source": [
    "## Q5. You are managing a list of students enrolled in two different courses. You need to perform various set operations to understand the student enrollment. Task: Create two sets: one for students in \"Course A\" and one for students in \"Course B\". Find the students who are in \"Course A\" but not in \"Course B\" (difference). Find students who are only in one of the two courses (symmetric difference). course_a = {\"John\", \"Alice\", \"Bob\", \"David\"} course_b = {\"Alice\", \"Eve\", \"Charlie\", \"David\"} • Find students who are in Course A but not in Course B (difference) • Find students who are only in one of the two courses (symmetric difference)"
   ]
  },
  {
   "cell_type": "code",
   "execution_count": 5,
   "id": "bfc2d00c-5a74-4928-8f5f-99214e8bdf21",
   "metadata": {},
   "outputs": [
    {
     "name": "stdout",
     "output_type": "stream",
     "text": [
      "Students in Course A but not in Course B: {'John', 'Bob'}\n",
      "Students only in one of the two courses: {'John', 'Eve', 'Charlie', 'Bob'}\n"
     ]
    }
   ],
   "source": [
    "course_a = {\"John\", \"Alice\", \"Bob\", \"David\"}\n",
    "course_b = {\"Alice\", \"Eve\", \"Charlie\", \"David\"}\n",
    "students_in_a_not_b = course_a - course_b\n",
    "print(\"Students in Course A but not in Course B:\", students_in_a_not_b)\n",
    "students_in_one_course_only = course_a ^ course_b\n",
    "print(\"Students only in one of the two courses:\", students_in_one_course_only)"
   ]
  },
  {
   "cell_type": "markdown",
   "id": "6300e893-90ed-4f4f-ba61-c4ddd22f665d",
   "metadata": {},
   "source": [
    "## Q7Write a Python program that prints the multiplication table for a given number (between 1 and 10) using a for loop.\n",
    "\n",
    "## Hint:\n",
    "\n",
    "## Ask the user for a number between 1 and 10 .\n",
    "## Use a for loop to iterate through the numbers from 1 to 10.\n",
    "## For each iteration, calculate the product of the given number and the current number in the loop.\n",
    "## Print the result in a readable format (e.g., 5 x 1 = 5).\n",
    "## Ensure the program works correctly for any number between 1 and 10."
   ]
  },
  {
   "cell_type": "code",
   "execution_count": 8,
   "id": "f45c9492-7098-42a3-8590-3aa112fbb4f2",
   "metadata": {},
   "outputs": [
    {
     "name": "stdin",
     "output_type": "stream",
     "text": [
      "Enter a number between 1 and 10:  6\n"
     ]
    },
    {
     "name": "stdout",
     "output_type": "stream",
     "text": [
      "6 x 1 = 6\n",
      "6 x 2 = 12\n",
      "6 x 3 = 18\n",
      "6 x 4 = 24\n",
      "6 x 5 = 30\n",
      "6 x 6 = 36\n",
      "6 x 7 = 42\n",
      "6 x 8 = 48\n",
      "6 x 9 = 54\n",
      "6 x 10 = 60\n"
     ]
    }
   ],
   "source": [
    "number = int(input(\"Enter a number between 1 and 10: \"))\n",
    "if 1 <= number <= 10:\n",
    "    for i in range(1, 11):\n",
    "        product = number * i\n",
    "        print(f\"{number} x {i} = {product}\")\n",
    "else:\n",
    "    print(\"Please enter a valid number between 1 and 10.\")"
   ]
  },
  {
   "cell_type": "markdown",
   "id": "9956fb09-fecc-43da-8764-f3a1346a0718",
   "metadata": {},
   "source": [
    "### Q8Write a Python program that takes a number and prints the powers of the number (starting from 1 to 10) using a while loop. For example, if the user inputs 3, the output should be: 3^1 = 3 3^2 = 9 3^3 = 27 ... up to 3^10."
   ]
  },
  {
   "cell_type": "code",
   "execution_count": 11,
   "id": "d806279f-9cc3-4a1c-90ea-013fbfd5bc6d",
   "metadata": {},
   "outputs": [
    {
     "name": "stdin",
     "output_type": "stream",
     "text": [
      "Enter a number:  4\n"
     ]
    },
    {
     "name": "stdout",
     "output_type": "stream",
     "text": [
      "4^1 = 4\n",
      "4^2 = 16\n",
      "4^3 = 64\n",
      "4^4 = 256\n",
      "4^5 = 1024\n",
      "4^6 = 4096\n",
      "4^7 = 16384\n",
      "4^8 = 65536\n",
      "4^9 = 262144\n",
      "4^10 = 1048576\n"
     ]
    }
   ],
   "source": [
    "number = int(input(\"Enter a number: \"))\n",
    "i = 1\n",
    "while i <= 10:\n",
    "    power = number ** i\n",
    "    print(f\"{number}^{i} = {power}\")\n",
    "    i += 1\n",
    "    "
   ]
  },
  {
   "cell_type": "markdown",
   "id": "8c12111b-e8ac-4a12-9801-6b440ead72bf",
   "metadata": {},
   "source": [
    "## Q9. Problem Statement: Write a Python program that takes an integer input from the user and counts down from that number to 0. The program should display the current number at each step until it reaches 0, at which point it should print a message indicating the countdown is finished Output Hint: Enter a number to start the countdown: 3 3 2 1 0 Countdown finished!\n",
    "\n"
   ]
  },
  {
   "cell_type": "code",
   "execution_count": 14,
   "id": "f55df6f5-7375-4307-bbc1-401d4d87c879",
   "metadata": {},
   "outputs": [
    {
     "name": "stdin",
     "output_type": "stream",
     "text": [
      "Enter a number to start the countdown:  8\n"
     ]
    },
    {
     "name": "stdout",
     "output_type": "stream",
     "text": [
      "8\n",
      "7\n",
      "6\n",
      "5\n",
      "4\n",
      "3\n",
      "2\n",
      "1\n",
      "0\n",
      "Countdown finished!\n"
     ]
    }
   ],
   "source": [
    "number = int(input(\"Enter a number to start the countdown: \"))\n",
    "while number >= 0:\n",
    "    print(number)\n",
    "    number -= 1\n",
    "print(\"Countdown finished!\")"
   ]
  },
  {
   "cell_type": "markdown",
   "id": "b51ff3e6-c56f-4db2-9405-49faa4464f80",
   "metadata": {},
   "source": [
    "## Q10. Write a Python program that takes an integer input n from the user and generates a right- angled triangle pattern of stars (*) with n rows. The first row should contain 1 star, the second row 2 stars, the third row 3 stars, and so on until the nth row. Ensure the stars in each row are separated by spaces, and each row starts on a new line."
   ]
  },
  {
   "cell_type": "code",
   "execution_count": 17,
   "id": "190ed6ba-d541-49b8-8f35-36474d051df2",
   "metadata": {},
   "outputs": [
    {
     "name": "stdin",
     "output_type": "stream",
     "text": [
      "Enter the number of rows for the triangle:  1\n"
     ]
    },
    {
     "name": "stdout",
     "output_type": "stream",
     "text": [
      "*\n"
     ]
    }
   ],
   "source": [
    "n = int(input(\"Enter the number of rows for the triangle: \"))\n",
    "\n",
    "for i in range(1, n + 1):\n",
    "    print('*' * i)"
   ]
  },
  {
   "cell_type": "code",
   "execution_count": null,
   "id": "e254b948-c93e-40d7-93a4-b82caf4e8e41",
   "metadata": {},
   "outputs": [],
   "source": []
  }
 ],
 "metadata": {
  "kernelspec": {
   "display_name": "Python 3 (ipykernel)",
   "language": "python",
   "name": "python3"
  },
  "language_info": {
   "codemirror_mode": {
    "name": "ipython",
    "version": 3
   },
   "file_extension": ".py",
   "mimetype": "text/x-python",
   "name": "python",
   "nbconvert_exporter": "python",
   "pygments_lexer": "ipython3",
   "version": "3.12.7"
  }
 },
 "nbformat": 4,
 "nbformat_minor": 5
}
