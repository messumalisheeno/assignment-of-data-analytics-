{
 "cells": [
  {
   "cell_type": "markdown",
   "id": "84302cf2-823f-4bdc-ae70-da9e6cf0e6ad",
   "metadata": {},
   "source": [
    "# ASIGNMENT NO 2\n"
   ]
  },
  {
   "cell_type": "markdown",
   "id": "adf6c1c7-80bc-49f1-afcf-80585cc61376",
   "metadata": {},
   "source": [
    "## ANSWER NO 1 : Age Group Classification \n"
   ]
  },
  {
   "cell_type": "code",
   "execution_count": 3,
   "id": "3b2723a6-87b0-475d-8b1d-efd15f8e5c43",
   "metadata": {},
   "outputs": [
    {
     "name": "stdin",
     "output_type": "stream",
     "text": [
      "enter your age  13\n"
     ]
    },
    {
     "name": "stdout",
     "output_type": "stream",
     "text": [
      "teenager\n"
     ]
    }
   ],
   "source": [
    "Age = int(input(\"enter your age \"))\n",
    "x = Age\n",
    "if x > 0 and x <= 12:\n",
    "    print(\"child\")\n",
    "elif x >= 13 and x <= 19:\n",
    "    print (\"teenager\")\n",
    "elif x >= 20 and x <= 64:\n",
    "    print(\"adult\")\n",
    "elif x >= 65:\n",
    "    print (\"senior\")\n",
    "else:\n",
    "    print(\"age inappropriate\")\n",
    "    "
   ]
  },
  {
   "cell_type": "markdown",
   "id": "fb5790e3-cde8-4ca2-b756-d040d3888ad5",
   "metadata": {},
   "source": [
    "## ANSWER NO 2 : Checking for Eligibility for Discount"
   ]
  },
  {
   "cell_type": "code",
   "execution_count": 12,
   "id": "91205eca-5d10-4c99-9ae4-8f6ffa2d1921",
   "metadata": {},
   "outputs": [
    {
     "name": "stdin",
     "output_type": "stream",
     "text": [
      "Your Membership(premium/regular):  premium\n",
      "Purchase Amount:  1500\n"
     ]
    },
    {
     "name": "stdout",
     "output_type": "stream",
     "text": [
      "Eligible For Discount\n"
     ]
    }
   ],
   "source": [
    "Membership = input(\"Your Membership(premium/regular): \")\n",
    "Purchase_Amount = int(input(\"Purchase Amount: \"))\n",
    "m = Membership\n",
    "p = Purchase_Amount\n",
    "if m == (\"premium\") and p >= 1000:\n",
    "    print(\"Eligible For Discount\")\n",
    "elif m == (\"regular\") and p >= 2000:\n",
    "    print (\"Eligible For Discount\")\n",
    "else: \n",
    "    print(\"Not Eligible For Discount\")\n",
    "\n"
   ]
  },
  {
   "cell_type": "markdown",
   "id": "c1a4f2d4-b555-4bde-b9e4-59eec5a5f36c",
   "metadata": {},
   "source": [
    "## ANSWER NO 3 : Voting Eligibility Check"
   ]
  },
  {
   "cell_type": "code",
   "execution_count": 7,
   "id": "9bbbafbe-ad60-4565-a73c-9e332bbe2f5a",
   "metadata": {},
   "outputs": [
    {
     "name": "stdin",
     "output_type": "stream",
     "text": [
      "Your Age:  16\n",
      "Citizenship Status(citizen/citizen of a special region):  citizen of a special region\n"
     ]
    },
    {
     "name": "stdout",
     "output_type": "stream",
     "text": [
      "Eligible To Vote\n"
     ]
    }
   ],
   "source": [
    "Age = int(input(\"Your Age: \"))\n",
    "citizenship = input(\"Citizenship Status(citizen/citizen of a special region): \")\n",
    "if Age >= 18 and citizenship == (\"citizen\"):\n",
    "    print(\"Eligible To Vote\")\n",
    "elif Age >= 16 and citizenship == (\"citizen of a special region\"):\n",
    "    print(\"Eligible To Vote\")\n",
    "else:\n",
    "    print(\"Not ELigible To Vote\")"
   ]
  },
  {
   "cell_type": "markdown",
   "id": "a1aef485-01c7-4fdf-839d-b6a21f7c81db",
   "metadata": {},
   "source": [
    "## ANSWER NO 4 : Employee Salary Bonus Eligibility\n"
   ]
  },
  {
   "cell_type": "code",
   "execution_count": 21,
   "id": "e917fc35-d714-4ecc-9de7-b51d13ba00c4",
   "metadata": {},
   "outputs": [
    {
     "name": "stdin",
     "output_type": "stream",
     "text": [
      "Years Of Service:  10 \n",
      "Performance Rating(Excellent/Good/Satisfactory):  Good\n"
     ]
    },
    {
     "name": "stdout",
     "output_type": "stream",
     "text": [
      "Eligible for Bonus\n"
     ]
    }
   ],
   "source": [
    "years_of_service = int(input(\"Years Of Service: \"))\n",
    "performance_rating = input(\"Performance Rating(Excellent/Good/Satisfactory): \")\n",
    "if years_of_service >= 5 and performance_rating == \"Excellent\":\n",
    "    print(\"Eligible For Bonus\")\n",
    "elif years_of_service >= 10 and performance_rating == \"Good\":\n",
    "    print(\"Eligible for Bonus\")\n",
    "elif years_of_service >= 15 and performance_rating == \"Satisfactory\":\n",
    "    print(\"Eligible for Bonus\")\n",
    "else:\n",
    "    print(\"Not Eligible for Bonus\")"
   ]
  },
  {
   "cell_type": "markdown",
   "id": "5e11fe92-3d86-4fb8-a0a1-2de6e3b6449b",
   "metadata": {},
   "source": [
    "## ANSWER NO 5 : "
   ]
  },
  {
   "cell_type": "markdown",
   "id": "2815cdaf-8085-4b04-bed1-13104821c42e",
   "metadata": {},
   "source": [
    "Text = \"I'm learning Python programming\""
   ]
  },
  {
   "cell_type": "code",
   "execution_count": 179,
   "id": "aac271d1-e7b0-4c9d-871b-41dfa331e627",
   "metadata": {},
   "outputs": [
    {
     "data": {
      "text/plain": [
       "'i love programming in python'"
      ]
     },
     "execution_count": 179,
     "metadata": {},
     "output_type": "execute_result"
    }
   ],
   "source": [
    "Text\n"
   ]
  },
  {
   "cell_type": "code",
   "execution_count": 48,
   "id": "c8e9b414-44be-43a0-ac21-882addbfb11b",
   "metadata": {},
   "outputs": [
    {
     "data": {
      "text/plain": [
       "\"I'm_learning_Python_programming\""
      ]
     },
     "execution_count": 48,
     "metadata": {},
     "output_type": "execute_result"
    }
   ],
   "source": [
    "Modified_Text = Text.replace(\" \",\"_\")\n",
    "Modified_Text\n",
    "\n",
    "\n"
   ]
  },
  {
   "cell_type": "code",
   "execution_count": 50,
   "id": "6ce9700f-6201-4b3e-95bf-7c4c7500ee43",
   "metadata": {},
   "outputs": [
    {
     "data": {
      "text/plain": [
       "3"
      ]
     },
     "execution_count": 50,
     "metadata": {},
     "output_type": "execute_result"
    }
   ],
   "source": [
    "Modified_Text.count(\"_\")"
   ]
  },
  {
   "cell_type": "code",
   "execution_count": 52,
   "id": "e67bcc19-43eb-4ce9-8579-5a8bb5b5eb9b",
   "metadata": {},
   "outputs": [
    {
     "data": {
      "text/plain": [
       "3"
      ]
     },
     "execution_count": 52,
     "metadata": {},
     "output_type": "execute_result"
    }
   ],
   "source": [
    "Modified_Text.find(\"_\")"
   ]
  },
  {
   "cell_type": "markdown",
   "id": "cb398a8e-e53c-42d7-8a12-05a070edb364",
   "metadata": {},
   "source": [
    "## ANSWER NO 6 :"
   ]
  },
  {
   "cell_type": "code",
   "execution_count": 57,
   "id": "450bbf68-6d36-49db-a9bc-546e4b050604",
   "metadata": {},
   "outputs": [
    {
     "data": {
      "text/plain": [
       "'i Am Doing An Assignment'"
      ]
     },
     "execution_count": 57,
     "metadata": {},
     "output_type": "execute_result"
    }
   ],
   "source": [
    "Text = \"i Am Doing An Assignment\"\n",
    "Text"
   ]
  },
  {
   "cell_type": "code",
   "execution_count": 59,
   "id": "05dd1441-7314-431c-a017-153df7801f1b",
   "metadata": {},
   "outputs": [
    {
     "data": {
      "text/plain": [
       "'i Am Doing An Assignm'"
      ]
     },
     "execution_count": 59,
     "metadata": {},
     "output_type": "execute_result"
    }
   ],
   "source": [
    "Text[:-3]"
   ]
  },
  {
   "cell_type": "code",
   "execution_count": 61,
   "id": "386dcb43-79b4-4104-aa15-6e3972d51f66",
   "metadata": {},
   "outputs": [
    {
     "data": {
      "text/plain": [
       "'iA on nAsgmn'"
      ]
     },
     "execution_count": 61,
     "metadata": {},
     "output_type": "execute_result"
    }
   ],
   "source": [
    "Text[::2]"
   ]
  },
  {
   "cell_type": "code",
   "execution_count": 65,
   "id": "9864dfa3-03c8-4e38-8d7c-a25a3aa3dd1f",
   "metadata": {},
   "outputs": [
    {
     "data": {
      "text/plain": [
       "'tnemngissA nA gnioD mA i'"
      ]
     },
     "execution_count": 65,
     "metadata": {},
     "output_type": "execute_result"
    }
   ],
   "source": [
    "Text[::-1]"
   ]
  },
  {
   "cell_type": "markdown",
   "id": "bb076adc-839d-4036-82b8-cb881e663ec7",
   "metadata": {},
   "source": [
    "## ANSWER NO 7 : "
   ]
  },
  {
   "cell_type": "code",
   "execution_count": 70,
   "id": "4a663b09-ab9f-4af5-9b07-91b62f1d5f0f",
   "metadata": {},
   "outputs": [
    {
     "data": {
      "text/plain": [
       "'Hello World, We are learning Python'"
      ]
     },
     "execution_count": 70,
     "metadata": {},
     "output_type": "execute_result"
    }
   ],
   "source": [
    "Text = \"Hello World, We are learning Python\"\n",
    "Text"
   ]
  },
  {
   "cell_type": "code",
   "execution_count": 76,
   "id": "d8a7d2d8-80b3-468d-a030-e65cdea8ab15",
   "metadata": {},
   "outputs": [
    {
     "data": {
      "text/plain": [
       "['Hello', 'World,', 'We', 'are', 'learning', 'Python']"
      ]
     },
     "execution_count": 76,
     "metadata": {},
     "output_type": "execute_result"
    }
   ],
   "source": [
    "Modified_Text = Text.split( )\n",
    "Modified_Text"
   ]
  },
  {
   "cell_type": "code",
   "execution_count": 78,
   "id": "dc12e6af-67a4-4bf1-8c77-eafb039eeedc",
   "metadata": {},
   "outputs": [
    {
     "data": {
      "text/plain": [
       "['Python', 'learning', 'are', 'We', 'World,', 'Hello']"
      ]
     },
     "execution_count": 78,
     "metadata": {},
     "output_type": "execute_result"
    }
   ],
   "source": [
    "Reversed_text=Modified_Text[::-1]\n",
    "Reversed_text"
   ]
  },
  {
   "cell_type": "code",
   "execution_count": 82,
   "id": "63e23876-b60b-4fe4-82ac-47af0915209f",
   "metadata": {},
   "outputs": [
    {
     "data": {
      "text/plain": [
       "'Python learning are We World, Hello'"
      ]
     },
     "execution_count": 82,
     "metadata": {},
     "output_type": "execute_result"
    }
   ],
   "source": [
    "Answer = \" \".join(Reversed_text)\n",
    "Answer"
   ]
  },
  {
   "cell_type": "markdown",
   "id": "54d6a5b6-c506-4084-b2b8-ed3b9bd55bfe",
   "metadata": {},
   "source": [
    "## ANSWER NO 8"
   ]
  },
  {
   "cell_type": "code",
   "execution_count": 85,
   "id": "cd0117cf-ac46-40f5-82bc-00990c7ca6f6",
   "metadata": {},
   "outputs": [
    {
     "data": {
      "text/plain": [
       "'SKU-12345-XYZ'"
      ]
     },
     "execution_count": 85,
     "metadata": {},
     "output_type": "execute_result"
    }
   ],
   "source": [
    "product_code = \"SKU-12345-XYZ\"\n",
    "product_code"
   ]
  },
  {
   "cell_type": "code",
   "execution_count": 98,
   "id": "1d40734b-dbc9-4ec9-a47f-7fec158b0eb3",
   "metadata": {},
   "outputs": [
    {
     "data": {
      "text/plain": [
       "'12345-XYZ'"
      ]
     },
     "execution_count": 98,
     "metadata": {},
     "output_type": "execute_result"
    }
   ],
   "source": [
    "New_Code = product_code.removeprefix(\"SKU-\")\n",
    "New_Code"
   ]
  },
  {
   "cell_type": "code",
   "execution_count": 108,
   "id": "3db98b86-c6ac-4a68-b04e-038458e89061",
   "metadata": {},
   "outputs": [
    {
     "data": {
      "text/plain": [
       "'12345'"
      ]
     },
     "execution_count": 108,
     "metadata": {},
     "output_type": "execute_result"
    }
   ],
   "source": [
    "Extracted_product_code = New_Code.removesuffix(\"-XYZ\")\n",
    "Extracted_product_code"
   ]
  },
  {
   "cell_type": "markdown",
   "id": "8be819af-1a77-4052-b755-a771b0fc5eff",
   "metadata": {},
   "source": [
    "## ANSWER NO 9 : "
   ]
  },
  {
   "cell_type": "code",
   "execution_count": 214,
   "id": "bdcc43c1-730b-4587-ab21-684ed6e1b997",
   "metadata": {},
   "outputs": [
    {
     "name": "stdin",
     "output_type": "stream",
     "text": [
      "Enter your password Messum Ali @\n"
     ]
    },
    {
     "name": "stdout",
     "output_type": "stream",
     "text": [
      "\n",
      "password analysis:\n",
      "contains uppercase characters: Yes\n",
      "contains lowercase characters: yes\n",
      "contains spaces: Yes\n",
      "contains special characters: yes\n"
     ]
    }
   ],
   "source": [
    "def check_password(user_password):\n",
    "    upercase_character = any(char.isupper() for char in user_password)\n",
    "    print(f\"contains uppercase characters: {'Yes'if upercase_character else 'No'}\")\n",
    "    lowercase_character = any(char.islower() for char in user_password)\n",
    "    print(f\"contains lowercase characters: {'yes' if lowercase_character else 'No'}\")\n",
    "    space = any(char.isspace() for char in user_password)\n",
    "    print(f\"contains spaces: {'Yes' if space else 'No'}\")\n",
    "    special_characters = any(not char.isalnum() and not char.isspace() for char in user_password)\n",
    "    print(f\"contains special characters: {'yes' if special_characters else'No'}\")\n",
    "user_password=input(\"Enter your password\")\n",
    "print(\"\\npassword analysis:\")\n",
    "check_password(user_password)"
   ]
  },
  {
   "cell_type": "markdown",
   "id": "cbd8b1a6-0a4f-4422-b680-b46bf703b040",
   "metadata": {},
   "source": [
    "## ANSWER 10 : Find the Longest Word"
   ]
  },
  {
   "cell_type": "code",
   "execution_count": 175,
   "id": "18b4ff04-458a-4abe-889d-acf729353903",
   "metadata": {},
   "outputs": [
    {
     "data": {
      "text/plain": [
       "'i love programming in python'"
      ]
     },
     "execution_count": 175,
     "metadata": {},
     "output_type": "execute_result"
    }
   ],
   "source": [
    "Text = \"i love programming in python\"\n",
    "Text"
   ]
  },
  {
   "cell_type": "code",
   "execution_count": 163,
   "id": "9b7b7d0f-a207-4a81-af88-eff181350654",
   "metadata": {},
   "outputs": [
    {
     "data": {
      "text/plain": [
       "['i', 'love', 'programming', 'in', 'python']"
      ]
     },
     "execution_count": 163,
     "metadata": {},
     "output_type": "execute_result"
    }
   ],
   "source": [
    "split_text = Text.split() \n",
    "split_text"
   ]
  },
  {
   "cell_type": "code",
   "execution_count": 169,
   "id": "3010d16b-72f5-4dcf-9f01-5d0733965483",
   "metadata": {},
   "outputs": [
    {
     "data": {
      "text/plain": [
       "'programming'"
      ]
     },
     "execution_count": 169,
     "metadata": {},
     "output_type": "execute_result"
    }
   ],
   "source": [
    "longest_word = max(split_text,key=len)\n",
    "longest_word"
   ]
  },
  {
   "cell_type": "code",
   "execution_count": null,
   "id": "21eeb8c0-5ea7-466a-b085-e1336fa2c1d0",
   "metadata": {},
   "outputs": [],
   "source": []
  }
 ],
 "metadata": {
  "kernelspec": {
   "display_name": "Python 3 (ipykernel)",
   "language": "python",
   "name": "python3"
  },
  "language_info": {
   "codemirror_mode": {
    "name": "ipython",
    "version": 3
   },
   "file_extension": ".py",
   "mimetype": "text/x-python",
   "name": "python",
   "nbconvert_exporter": "python",
   "pygments_lexer": "ipython3",
   "version": "3.12.7"
  }
 },
 "nbformat": 4,
 "nbformat_minor": 5
}
