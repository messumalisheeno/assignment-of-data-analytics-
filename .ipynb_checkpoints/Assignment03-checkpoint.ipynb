{
 "cells": [
  {
   "cell_type": "markdown",
   "id": "e769dda5-07cd-4ba0-8f2a-74a9c5d84e4c",
   "metadata": {},
   "source": [
    "## QUESTION NO 1 : "
   ]
  },
  {
   "cell_type": "code",
   "execution_count": 2,
   "id": "72ec449a-04c6-488b-8b5c-54630d1292d4",
   "metadata": {},
   "outputs": [
    {
     "name": "stdin",
     "output_type": "stream",
     "text": [
      "enter your age here:  17\n",
      "enter your credit score here:  400\n",
      "enter your annual income here:  13000\n"
     ]
    },
    {
     "name": "stdout",
     "output_type": "stream",
     "text": [
      "you are under age\n"
     ]
    }
   ],
   "source": [
    "age = int(input(\"enter your age here: \"))\n",
    "credit_score = int(input(\"enter your credit score here: \"))\n",
    "annual_income = int(input(\"enter your annual income here: \"))\n",
    "if age >= 18:\n",
    "    if credit_score >= 650 and annual_income == 30000:\n",
    "        print(\"Eligible for Loan\")\n",
    "    elif credit_score >= 700 and annual_income == 25000:\n",
    "        print(\"Eligible For Loan\")\n",
    "    else:\n",
    "        print(\"not Eligible for Loan\")\n",
    "else:\n",
    "    print(\"you are under age\")"
   ]
  },
  {
   "cell_type": "markdown",
   "id": "ff5e1410-85d0-4ae1-9393-37bea8a680da",
   "metadata": {},
   "source": [
    "## QUESTION NO 2 :"
   ]
  },
  {
   "cell_type": "code",
   "execution_count": 12,
   "id": "050956ec-7df3-4417-b290-f79674552f54",
   "metadata": {},
   "outputs": [
    {
     "name": "stdin",
     "output_type": "stream",
     "text": [
      "enter your age here:  19\n",
      "enter your years of experience:  1\n"
     ]
    },
    {
     "name": "stdout",
     "output_type": "stream",
     "text": [
      "you are just starting out\n"
     ]
    }
   ],
   "source": [
    "age = int(input(\"enter your age here: \"))\n",
    "years_of_experience = int(input(\"enter your years of experience: \"))\n",
    "if age >= 18:\n",
    "    if years_of_experience >= 10:\n",
    "        print(\"you have a lot of experience\")\n",
    "    elif years_of_experience >= 5 and years_of_experience <= 9:\n",
    "        print(\"you have a moderate experience\")\n",
    "    elif years_of_experience >= 2 and years_of_experience <= 4:\n",
    "        print(\"you are relatively new\")\n",
    "    elif years_of_experience <= 2:\n",
    "        print(\"you are just starting out\")\n",
    "else:\n",
    "    print(\"you are underage\")\n",
    "\n",
    "    \n",
    "    "
   ]
  },
  {
   "cell_type": "markdown",
   "id": "92ff22f2-da77-4fe0-aa03-a2ea3a7a9a83",
   "metadata": {},
   "source": [
    "## QUESTION NO 3 :"
   ]
  },
  {
   "cell_type": "code",
   "execution_count": 42,
   "id": "54afb683-4043-4fed-83e1-c71d0f164965",
   "metadata": {},
   "outputs": [
    {
     "name": "stdout",
     "output_type": "stream",
     "text": [
      "Memory address of 10: 140708309969624\n",
      "Memory size of 10 (type: int): 28 bytes\n",
      "Memory address of 10: 140708309969624\n",
      "Memory size of 10 (type: int): 28 bytes\n",
      "Memory address of 10.0: 2526897180976\n",
      "Memory size of 10.0 (type: float): 24 bytes\n",
      "Memory address of Hello: 2526883365296\n",
      "Memory size of Hello (type: str): 46 bytes\n",
      "Memory address of Hello: 2526883365296\n",
      "Memory size of Hello (type: str): 46 bytes\n",
      "\n",
      "Data type with the least memory size: float\n"
     ]
    }
   ],
   "source": [
    "import sys\n",
    "a = 10\n",
    "b = 10\n",
    "c = 10.0\n",
    "d = 'Hello'\n",
    "e = 'Hello'\n",
    "\n",
    "memory_sizes = []\n",
    "def explore_variable(var):\n",
    "    print(f\"Memory address of {var}: {id(var)}\")\n",
    "    size = sys.getsizeof(var)\n",
    "    memory_sizes.append((type(var).__name__, size))\n",
    "    print(f\"Memory size of {var} (type: {type(var).__name__}): {size} bytes\")\n",
    "variables = [a, b, c, d, e]\n",
    "for var in variables:\n",
    "    explore_variable(var)\n",
    "least_memory_size_type = min(memory_sizes, key=lambda x: x[1])[0]\n",
    "print(\"\\nData type with the least memory size:\", least_memory_size_type)\n"
   ]
  },
  {
   "cell_type": "markdown",
   "id": "aaa6fec2-99bb-4638-bacf-2a4ae633fc8c",
   "metadata": {},
   "source": [
    "## QUESTION NO 4 :"
   ]
  },
  {
   "cell_type": "code",
   "execution_count": 21,
   "id": "6d813118-10d8-41f5-a7bb-a04d538f8925",
   "metadata": {},
   "outputs": [
    {
     "name": "stdin",
     "output_type": "stream",
     "text": [
      "Enter Your Email Here:  muhammadmessumali23@gmail.com\n"
     ]
    },
    {
     "name": "stdout",
     "output_type": "stream",
     "text": [
      "Email Format Is Valid\n"
     ]
    }
   ],
   "source": [
    "user_email = input(\"Enter Your Email Here: \")\n",
    "if \"@\" in user_email and \".\" in user_email:\n",
    "    print(\"Email Format Is Valid\")\n",
    "else:\n",
    "    print(\"Email Format Is Not Valid\")"
   ]
  },
  {
   "cell_type": "markdown",
   "id": "3d655b98-2c14-4dac-8279-1f571555eacb",
   "metadata": {},
   "source": [
    "## QUESTION NO 5 :\n"
   ]
  },
  {
   "cell_type": "code",
   "execution_count": 3,
   "id": "2dc6705f-b2b6-431e-8436-9e9529009c0d",
   "metadata": {},
   "outputs": [],
   "source": [
    "x = (11,22.333,\"apple\",[1,2,3],(\"a\",\"b\"))\n",
    "data_types = []\n",
    "for elements in x:\n",
    "    data_types.append(type(elements).__name__)\n",
    "\n"
   ]
  },
  {
   "cell_type": "code",
   "execution_count": 4,
   "id": "fda45cce-de1f-4865-bf2c-77b4b1d10b27",
   "metadata": {},
   "outputs": [
    {
     "data": {
      "text/plain": [
       "['int', 'float', 'str', 'list', 'tuple']"
      ]
     },
     "execution_count": 4,
     "metadata": {},
     "output_type": "execute_result"
    }
   ],
   "source": [
    "data_types"
   ]
  },
  {
   "cell_type": "markdown",
   "id": "30003567-d3a5-4fc0-b299-c6ecece63e54",
   "metadata": {},
   "source": [
    "## QUESTION NO 6 :"
   ]
  },
  {
   "cell_type": "code",
   "execution_count": 25,
   "id": "0a52ef15-b471-483b-88c7-93984d546adb",
   "metadata": {},
   "outputs": [
    {
     "name": "stdin",
     "output_type": "stream",
     "text": [
      "Enter a username:  alice\n"
     ]
    },
    {
     "name": "stdout",
     "output_type": "stream",
     "text": [
      "Username 'alice' exists in the list of active users.\n",
      "User 'alice' is the admin.\n"
     ]
    }
   ],
   "source": [
    "active_users = [(\"alice\", \"admin\"), (\"bob\", \"user\"), (\"charlie\", \"moderator\")]\n",
    "\n",
    "def check_user(username):\n",
    "    user_exists = any(user[0] == username for user in active_users)\n",
    "    admin_reference = (\"alice\", \"admin\")\n",
    "    is_admin = any(user is admin_reference for user in active_users)\n",
    "    \n",
    "    if user_exists:\n",
    "        print(f\"Username '{username}' exists in the list of active users.\")\n",
    "    else:\n",
    "        print(f\"Username '{username}' does not exist in the list of active users.\")\n",
    "    \n",
    "    if user_exists and admin_reference:\n",
    "        print(f\"User '{username}' is the admin.\")\n",
    "    else:\n",
    "        print(f\"User '{username}' is not the admin.\")\n",
    "\n",
    "\n",
    "username = input(\"Enter a username: \")\n",
    "check_user(username)\n",
    "\n"
   ]
  },
  {
   "cell_type": "markdown",
   "id": "d8c5c080-2c07-40e4-bbbd-d2bf44d37bd3",
   "metadata": {},
   "source": [
    "## QUESTION NO 7 :"
   ]
  },
  {
   "cell_type": "code",
   "execution_count": 36,
   "id": "3b7c4c78-bfc9-4f85-8f1c-47ecde670918",
   "metadata": {},
   "outputs": [
    {
     "name": "stdout",
     "output_type": "stream",
     "text": [
      "Relation between person 1 and person 2 : siblings\n",
      "Relation between person 1 and person 3 : Not Cousin\n"
     ]
    }
   ],
   "source": [
    "person1 = ['ahmed','sara','karachi','248']\n",
    "person2 = person1\n",
    "person3 = ['ali','nimra','karachi','209']\n",
    "if person1 is person2:\n",
    "    print(\"Relation between person 1 and person 2 : siblings\")\n",
    "else: print(\"relation between person 1 and person 2 : not siblings\")\n",
    "if person1 is person3:\n",
    "    print(\"Relation between person 1 and person 3 : Cousin\")\n",
    "else:\n",
    "    print(\"Relation between person 1 and person 3 : Not Cousin\")"
   ]
  },
  {
   "cell_type": "code",
   "execution_count": null,
   "id": "c9498948-8366-40a1-9794-0103b1df0648",
   "metadata": {},
   "outputs": [],
   "source": []
  },
  {
   "cell_type": "markdown",
   "id": "c38d5f49-7b1d-4cc3-bb89-35efad3e110f",
   "metadata": {},
   "source": [
    "## QUESTION NO 8 :"
   ]
  },
  {
   "cell_type": "code",
   "execution_count": 10,
   "id": "4b4c8140-a573-4f28-b16c-528866b0ebce",
   "metadata": {},
   "outputs": [
    {
     "name": "stdin",
     "output_type": "stream",
     "text": [
      "Enter the book's title:  urdu khaniyan\n",
      "Enter the book's author:  ahmed nadeem qasmi\n",
      "Enter the year of publication:  2018\n",
      "Enter the book's price:  500\n"
     ]
    },
    {
     "name": "stdout",
     "output_type": "stream",
     "text": [
      "\n",
      "Stored Book Information:\n",
      "Title: urdu khaniyan\n",
      "Author: ahmed nadeem qasmi\n",
      "Year of Publication: 2018\n",
      "Price: 500.0 PKR\n"
     ]
    }
   ],
   "source": [
    "def get_book_details():\n",
    "    \n",
    "    title = input(\"Enter the book's title: \")\n",
    "    author = input(\"Enter the book's author: \")\n",
    "    year = input(\"Enter the year of publication: \")\n",
    "    price = float(input(\"Enter the book's price: \"))\n",
    "\n",
    "    book_details = {\n",
    "        \"Title\": title,\n",
    "        \"Author\": author,\n",
    "        \"Year\": year,\n",
    "        \"Price\": price\n",
    "    }\n",
    "\n",
    "    print(\"\\nStored Book Information:\")\n",
    "    print(f\"Title: {book_details['Title']}\")\n",
    "    print(f\"Author: {book_details['Author']}\")\n",
    "    print(f\"Year of Publication: {book_details['Year']}\")\n",
    "    print(f\"Price: {book_details['Price']} PKR\")\n",
    "\n",
    "get_book_details()\n"
   ]
  },
  {
   "cell_type": "markdown",
   "id": "4f4654f4-77b5-43d5-864f-82714988123e",
   "metadata": {},
   "source": [
    "## QUESTION 9 :"
   ]
  },
  {
   "cell_type": "code",
   "execution_count": 13,
   "id": "fab3316f-59d6-46fe-83af-e31bd9c5d1c0",
   "metadata": {},
   "outputs": [
    {
     "name": "stdin",
     "output_type": "stream",
     "text": [
      "Enter Your Subject Here Which You Want To Check:  Math\n"
     ]
    },
    {
     "name": "stdout",
     "output_type": "stream",
     "text": [
      "The Subject Math is available\n"
     ]
    }
   ],
   "source": [
    "offered_subjects = (\"Math\",\"English\",\"Computer\",\"Chemistry\",\"Biology\",\"physics\")\n",
    "chosen_subject = input(\"Enter Your Subject Here Which You Want To Check: \")\n",
    "if chosen_subject in offered_subjects:\n",
    "    print(f\"The Subject {chosen_subject} is available\")\n",
    "else:\n",
    "    print(f\"The subject {chosen_subject} is not available\")\n",
    "    "
   ]
  },
  {
   "cell_type": "markdown",
   "id": "373157a0-b870-42ee-8b58-6d807fe170de",
   "metadata": {},
   "source": [
    "## QUESTION NO 10 :\n"
   ]
  },
  {
   "cell_type": "code",
   "execution_count": 7,
   "id": "4ab56cef-5877-4280-9632-e02c30e18d5c",
   "metadata": {},
   "outputs": [
    {
     "name": "stdin",
     "output_type": "stream",
     "text": [
      "Enter The Number to Find The First Occurence in Tuple 4\n"
     ]
    },
    {
     "name": "stdout",
     "output_type": "stream",
     "text": [
      "the First Occurence of 4 is at index 3\n"
     ]
    },
    {
     "name": "stdin",
     "output_type": "stream",
     "text": [
      "Enter Your Number to count how mant times it appears:  3\n"
     ]
    },
    {
     "name": "stdout",
     "output_type": "stream",
     "text": [
      "the number 3 is 2 time(s) in tuple\n"
     ]
    }
   ],
   "source": [
    "numbers = (1,3,2,4,3,7,8,6,4)\n",
    "number_to_find = int(input(\"Enter The Number to Find The First Occurence in Tuple\"))\n",
    "if number_to_find in numbers:\n",
    "    index =numbers.index(number_to_find)\n",
    "    print(f\"the First Occurence of {number_to_find} is at index {index}\")\n",
    "else:\n",
    "    print(f\"the number {number_to_find} is not in tuple\")\n",
    "number_to_count = int(input(\"Enter Your Number to count how mant times it appears: \"))\n",
    "count = numbers.count(number_to_count)\n",
    "print(f\"the number {number_to_count} is {count} time(s) in tuple\")\n"
   ]
  },
  {
   "cell_type": "code",
   "execution_count": null,
   "id": "e65fe4ee-0460-4cb4-84bd-7d97983b03f3",
   "metadata": {},
   "outputs": [],
   "source": []
  }
 ],
 "metadata": {
  "kernelspec": {
   "display_name": "Python 3 (ipykernel)",
   "language": "python",
   "name": "python3"
  },
  "language_info": {
   "codemirror_mode": {
    "name": "ipython",
    "version": 3
   },
   "file_extension": ".py",
   "mimetype": "text/x-python",
   "name": "python",
   "nbconvert_exporter": "python",
   "pygments_lexer": "ipython3",
   "version": "3.12.7"
  }
 },
 "nbformat": 4,
 "nbformat_minor": 5
}
