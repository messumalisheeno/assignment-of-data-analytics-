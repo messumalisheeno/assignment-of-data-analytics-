{
 "cells": [
  {
   "cell_type": "markdown",
   "id": "ceb22c12-1eaa-4939-908e-b88851ef3f48",
   "metadata": {},
   "source": [
    "## Assignment No 06"
   ]
  },
  {
   "cell_type": "markdown",
   "id": "73273c82-07d8-4eb6-a98b-5b754202addf",
   "metadata": {},
   "source": [
    "Question 1:\n",
    "\n",
    "In a transportation system, we have two classes:\n",
    " \n",
    "  ElectricVehicle: A class that has a method charge() to charge the vehicle.\n",
    " \n",
    "  GasolineVehicle: A class that has a method fuel_up() to refuel the vehicle.\n",
    "\n",
    "Create a class HybridCar that inherits from both ElectricVehicle and GasolineVehicle. The HybridCar\n",
    "class should have a method drive() that prints a message showing the car is being driven. Instantiate\n",
    "an object of class HybridCar and demonstrate the usage of charge(), fuel_up(), and drive().\n",
    "\n",
    "Expected Output:\n",
    " Charging the electric vehicle.\n",
    " Filling up the gasoline tank.\n",
    " Driving the hybrid car."
   ]
  },
  {
   "cell_type": "code",
   "execution_count": 5,
   "id": "6de65500-d6e6-4673-b26f-a8816d757c6e",
   "metadata": {},
   "outputs": [],
   "source": [
    "class ElectricVehicle:\n",
    "    def charge(self):\n",
    "        return \" Charging the electric vehicle\""
   ]
  },
  {
   "cell_type": "code",
   "execution_count": 9,
   "id": "482509de-6478-4b1a-83a9-f440f6631007",
   "metadata": {},
   "outputs": [],
   "source": [
    "electric_vehicle = ElectricVehicle()"
   ]
  },
  {
   "cell_type": "code",
   "execution_count": 13,
   "id": "2f407ef9-fc5d-428c-946f-1fe5e8c6cca3",
   "metadata": {},
   "outputs": [
    {
     "data": {
      "text/plain": [
       "' Charging the electric vehicle'"
      ]
     },
     "execution_count": 13,
     "metadata": {},
     "output_type": "execute_result"
    }
   ],
   "source": [
    "electric_vehicle.charge()"
   ]
  },
  {
   "cell_type": "code",
   "execution_count": 15,
   "id": "ec7d95d0-810f-41d2-980b-41fbf7454c52",
   "metadata": {},
   "outputs": [],
   "source": [
    "class GasolineVehicle:\n",
    "    def fuel_up(self):\n",
    "        return \"Filling up the gasoline tank\""
   ]
  },
  {
   "cell_type": "code",
   "execution_count": 17,
   "id": "e0027c07-d5b3-4202-bff2-2ea4473f8df6",
   "metadata": {},
   "outputs": [],
   "source": [
    "gasoline_vehicle = GasolineVehicle()"
   ]
  },
  {
   "cell_type": "code",
   "execution_count": 19,
   "id": "148cbf0c-33b8-417f-95dc-ce18860e1b1e",
   "metadata": {},
   "outputs": [
    {
     "data": {
      "text/plain": [
       "'Filling up the gasoline tank'"
      ]
     },
     "execution_count": 19,
     "metadata": {},
     "output_type": "execute_result"
    }
   ],
   "source": [
    "gasoline_vehicle.fuel_up()"
   ]
  },
  {
   "cell_type": "code",
   "execution_count": 37,
   "id": "289d1629-db67-4b9a-ba12-c70895dd12c9",
   "metadata": {},
   "outputs": [],
   "source": [
    "class HybirdCar(ElectricVehicle,GasolineVehicle):\n",
    "    def drive(self):\n",
    "        return \"Driving the hybrid car\""
   ]
  },
  {
   "cell_type": "code",
   "execution_count": 39,
   "id": "5332b6fa-c8bd-4ef7-a19a-2e9727ba5833",
   "metadata": {},
   "outputs": [],
   "source": [
    "hybird_car = HybirdCar()"
   ]
  },
  {
   "cell_type": "code",
   "execution_count": 41,
   "id": "5764b416-1fa5-4dba-86e9-c4d111aed717",
   "metadata": {},
   "outputs": [
    {
     "data": {
      "text/plain": [
       "'Driving the hybrid car'"
      ]
     },
     "execution_count": 41,
     "metadata": {},
     "output_type": "execute_result"
    }
   ],
   "source": [
    "hybird_car.drive()"
   ]
  },
  {
   "cell_type": "code",
   "execution_count": 43,
   "id": "2a8eac22-3416-4d05-8be2-017f3aba0dc9",
   "metadata": {},
   "outputs": [
    {
     "data": {
      "text/plain": [
       "' Charging the electric vehicle'"
      ]
     },
     "execution_count": 43,
     "metadata": {},
     "output_type": "execute_result"
    }
   ],
   "source": [
    "hybird_car.charge()"
   ]
  },
  {
   "cell_type": "code",
   "execution_count": 47,
   "id": "40121cc7-b218-4b77-b2c9-ec7838e4df6e",
   "metadata": {},
   "outputs": [
    {
     "data": {
      "text/plain": [
       "'Filling up the gasoline tank'"
      ]
     },
     "execution_count": 47,
     "metadata": {},
     "output_type": "execute_result"
    }
   ],
   "source": [
    "hybird_car.fuel_up()"
   ]
  },
  {
   "cell_type": "markdown",
   "id": "14a848c2-6ce8-45e5-aebf-158c184fa6d6",
   "metadata": {},
   "source": [
    "Question 2:\n",
    "\n",
    "Create a class Animal with a method make_sound(), which prints &quot;Animal makes a sound&quot;. Then,\n",
    "create two subclasses:\n",
    "\n",
    " Lion: Override the make_sound() method to print &quot;Roar&quot;.\n",
    "\n",
    " Cat: Override the make_sound() method to print &quot;Meow&quot;.\n",
    "\n",
    "Demonstrate polymorphism by calling make_sound() on instances of Lion and Cat."
   ]
  },
  {
   "cell_type": "code",
   "execution_count": 1,
   "id": "1ce0c1a7-8d3f-49cb-b1ba-edb0c0d60bfb",
   "metadata": {},
   "outputs": [],
   "source": [
    "class Animal:\n",
    "    def make_sound(self):\n",
    "        print (\"Animal makes a sound\")"
   ]
  },
  {
   "cell_type": "code",
   "execution_count": 3,
   "id": "a0edec54-2764-4533-965f-044a2e9ec6bd",
   "metadata": {},
   "outputs": [],
   "source": [
    "animal = Animal()"
   ]
  },
  {
   "cell_type": "code",
   "execution_count": 5,
   "id": "da33c2b4-2ad4-4f45-9c76-d609bb1c1c49",
   "metadata": {},
   "outputs": [
    {
     "name": "stdout",
     "output_type": "stream",
     "text": [
      "Animal makes a sound\n"
     ]
    }
   ],
   "source": [
    "animal.make_sound()"
   ]
  },
  {
   "cell_type": "code",
   "execution_count": 9,
   "id": "3187a485-11eb-469c-9256-5b57c3e179d2",
   "metadata": {},
   "outputs": [],
   "source": [
    "class Lion(Animal):\n",
    "    def make_sound(self):\n",
    "        return \"Roar\""
   ]
  },
  {
   "cell_type": "code",
   "execution_count": 15,
   "id": "85026dcb-61be-4b79-9339-cf7da0a3996d",
   "metadata": {},
   "outputs": [],
   "source": [
    "lion = Lion()"
   ]
  },
  {
   "cell_type": "code",
   "execution_count": 17,
   "id": "8923acaf-c85e-4009-8a23-6ce312c9dca5",
   "metadata": {},
   "outputs": [
    {
     "data": {
      "text/plain": [
       "'Roar'"
      ]
     },
     "execution_count": 17,
     "metadata": {},
     "output_type": "execute_result"
    }
   ],
   "source": [
    "lion.make_sound()"
   ]
  },
  {
   "cell_type": "code",
   "execution_count": 21,
   "id": "13fe521d-5c51-4ae8-9510-7490d2a41ad6",
   "metadata": {},
   "outputs": [],
   "source": [
    "class Cat(Animal):\n",
    "    def make_sound(self):\n",
    "        return \"Meow\""
   ]
  },
  {
   "cell_type": "code",
   "execution_count": 23,
   "id": "e530b47a-38c9-4497-bcf9-f84b7bbee17d",
   "metadata": {},
   "outputs": [],
   "source": [
    "cat = Cat()"
   ]
  },
  {
   "cell_type": "code",
   "execution_count": 27,
   "id": "c1fe18f1-8dbe-4fbf-b3f1-8f923b4f24a5",
   "metadata": {},
   "outputs": [
    {
     "data": {
      "text/plain": [
       "'Meow'"
      ]
     },
     "execution_count": 27,
     "metadata": {},
     "output_type": "execute_result"
    }
   ],
   "source": [
    "cat.make_sound()"
   ]
  },
  {
   "cell_type": "markdown",
   "id": "f463505e-e59c-46e6-b518-489bd6702d38",
   "metadata": {},
   "source": [
    "Question 3:\n",
    "\n",
    "Create an abstract class SmartHomeDevice with two abstract methods:\n",
    "\n",
    " turn_on() (to turn the device on)\n",
    "\n",
    " turn_off() (to turn the device off)\n",
    "\n",
    "Then, create a Light class that inherits from SmartHomeDevice. Implement the methods turn_on()\n",
    "and turn_off() for a light device. The turn_on() method should print &quot;Light is ON&quot;, and the turn_off()\n",
    "method should print &quot;Light is OFF&quot;.\n",
    "\n",
    "Write a Python program to control the light device in a smart home.\n",
    "\n",
    "Expected Output:\n",
    "\n",
    "Turning on the light...\n",
    "\n",
    " Light is ON\n",
    "\n",
    " Turning off the light...\n",
    "\n",
    " Light is OFF"
   ]
  },
  {
   "cell_type": "code",
   "execution_count": null,
   "id": "2353d225-c3d3-4b03-8f4b-a3f490089360",
   "metadata": {},
   "outputs": [],
   "source": [
    "from abc import ABC, abstractmethod\n",
    "\n",
    "class SmartHomeDevice(ABC):\n",
    "    \n",
    "\n",
    "    def turn_on(self):\n",
    "        pass\n",
    "        \n",
    "    def turn_off(self):\n",
    "        pass\n",
    "\n",
    "class Light(SmartHomeDevice):\n",
    "    \n",
    "    def turn_on(self):\n",
    "        print(\"Light is ON\")\n",
    "    \n",
    "    def turn_off(self):\n",
    "        print(\"Light is OFF\")\n",
    "\n",
    "# Create a Python program to control the light device\n",
    "if __name__ == \"__main__\":\n",
    "    light = Light()\n",
    "\n",
    "    print(\"Turning on the light...\")\n",
    "    light.turn_on()  # Output: Light is ON\n",
    "\n",
    "    print(\"Turning off the light...\")\n",
    "    light.turn_off()  # Output: Light is OFF\n"
   ]
  },
  {
   "cell_type": "code",
   "execution_count": null,
   "id": "b62cf57a-836f-4217-aa22-5d73e0ad936a",
   "metadata": {},
   "outputs": [],
   "source": []
  },
  {
   "cell_type": "code",
   "execution_count": null,
   "id": "658ad7fa-9fe2-4208-ad24-0e719bd8a381",
   "metadata": {},
   "outputs": [],
   "source": []
  },
  {
   "cell_type": "code",
   "execution_count": null,
   "id": "60351948-6111-41f0-9161-8179e97e3efa",
   "metadata": {},
   "outputs": [],
   "source": []
  },
  {
   "cell_type": "code",
   "execution_count": null,
   "id": "dd1b4a4f-b51d-4f61-b6a8-a8ead6bdf994",
   "metadata": {},
   "outputs": [],
   "source": []
  },
  {
   "cell_type": "code",
   "execution_count": null,
   "id": "ba7853c6-256a-4ca1-b5b0-b35efb59d739",
   "metadata": {},
   "outputs": [],
   "source": []
  },
  {
   "cell_type": "code",
   "execution_count": null,
   "id": "72bd7ce9-fc5c-4e75-a37a-b2f8cb34fa30",
   "metadata": {},
   "outputs": [],
   "source": []
  },
  {
   "cell_type": "code",
   "execution_count": null,
   "id": "c97bae63-f873-4cc6-a260-70929940d70a",
   "metadata": {},
   "outputs": [],
   "source": []
  },
  {
   "cell_type": "code",
   "execution_count": null,
   "id": "a14b6b7d-9140-47db-829c-83427d0c77b0",
   "metadata": {},
   "outputs": [],
   "source": []
  },
  {
   "cell_type": "code",
   "execution_count": null,
   "id": "8a094bb6-5d9e-4bcb-a43f-69c96fbf85ff",
   "metadata": {},
   "outputs": [],
   "source": []
  },
  {
   "cell_type": "markdown",
   "id": "a9ac68ce-5ba9-4256-b338-bb84b143fc0a",
   "metadata": {},
   "source": [
    "Question 4:\n",
    "\n",
    "Create a class Greeting with a method greet() that can handle different numbers of arguments.\n",
    "\n",
    " If no argument is passed, it should print &quot;Hello!&quot;.\n",
    "\n",
    " If one argument (a name) is passed, it should print &quot;Hello, !&quot;.\n",
    "\n",
    " If two arguments (a name and a greeting) are passed, it should print the greeting with the\n",
    "\n",
    "name (e.g., &quot;Good morning, !&quot;).\n",
    "\n",
    "Simulate method overloading using default arguments or variable-length arguments, and\n",
    "demonstrate the polymorphic behavior by calling greet() with different numbers of arguments.\n",
    "\n",
    "Expected Output:\n",
    "\n",
    " Hello!\n",
    "\n",
    " Hello, John!\n",
    "\n",
    " Good morning, John!"
   ]
  },
  {
   "cell_type": "code",
   "execution_count": 90,
   "id": "c5ee81a5-2d30-49ea-8c6e-99f6464362d7",
   "metadata": {},
   "outputs": [],
   "source": [
    "class Greeting:\n",
    "    def greet(self,name=\"\",greeting=\"Hello\"):\n",
    "        if name == \"\" :\n",
    "            print(\"Hello!\")\n",
    "        else:\n",
    "            print(f\"{greeting}, {name}!\")"
   ]
  },
  {
   "cell_type": "code",
   "execution_count": 92,
   "id": "fd236923-0fb0-458d-bb9e-193c0fff9e34",
   "metadata": {},
   "outputs": [],
   "source": [
    "greeting = Greeting()"
   ]
  },
  {
   "cell_type": "code",
   "execution_count": 94,
   "id": "414aaed7-3553-46ea-8377-958cb8e66002",
   "metadata": {},
   "outputs": [
    {
     "name": "stdout",
     "output_type": "stream",
     "text": [
      "Hello!\n"
     ]
    }
   ],
   "source": [
    "greeting.greet()"
   ]
  },
  {
   "cell_type": "code",
   "execution_count": 100,
   "id": "90b0eff9-b6bb-4e95-ad34-86a9438deb0f",
   "metadata": {},
   "outputs": [
    {
     "name": "stdout",
     "output_type": "stream",
     "text": [
      "Hello, john!\n"
     ]
    }
   ],
   "source": [
    "greeting.greet(\"john\")"
   ]
  },
  {
   "cell_type": "code",
   "execution_count": 102,
   "id": "301cb0ec-f132-45d1-8b02-ffb22460109d",
   "metadata": {},
   "outputs": [
    {
     "name": "stdout",
     "output_type": "stream",
     "text": [
      "Good Morning, john!\n"
     ]
    }
   ],
   "source": [
    "greeting.greet(\"john\",\"Good Morning\")"
   ]
  },
  {
   "cell_type": "markdown",
   "id": "41ff17c6-5eb2-44ca-b592-c69a4eb9488e",
   "metadata": {},
   "source": [
    "Question 5:\n",
    "\n",
    "Create a class CarRental to manage the rental of cars.\n",
    "\n",
    "     The class should have private attributes for the car&#39;s name, price per day, and the number of\n",
    "rental days.\n",
    "\n",
    "     Create a method to calculate the total rental cost and a method to set the rental days.\n",
    "\n",
    "     Use getter and setter methods for modifying and accessing the car&#39;s information.\n",
    "\n",
    "Demonstrate encapsulation by creating an object of CarRental and calculating the total rental cost.\n",
    "\n",
    "Expected Output:\n",
    "\n",
    " Car Name: Toyota Camry\n",
    "\n",
    " Price Per Day: $50\n",
    "\n",
    " Rental Days: 5\n",
    "\n",
    " Total Rental Cost: $250"
   ]
  },
  {
   "cell_type": "code",
   "execution_count": 111,
   "id": "897454ee-c48e-4f3f-97aa-e3e3ad9dc571",
   "metadata": {},
   "outputs": [
    {
     "name": "stdout",
     "output_type": "stream",
     "text": [
      "Car Name: Toyota Camry\n",
      "Price Per Day: $50\n",
      "Rental Days: 5\n",
      "Total Rental Cost: $250\n"
     ]
    }
   ],
   "source": [
    "class CarRental:\n",
    "    def __init__(self, name, price_per_day):\n",
    "        self.__name = name\n",
    "        self.__price_per_day = price_per_day\n",
    "        self.__rental_days = 0\n",
    "\n",
    "    def get_name(self):\n",
    "        return self.__name\n",
    "\n",
    "    def set_name(self, name):\n",
    "        self.__name = name\n",
    "\n",
    "    def get_price_per_day(self):\n",
    "        return self.__price_per_day\n",
    "\n",
    "    def set_price_per_day(self, price_per_day):\n",
    "        self.__price_per_day = price_per_day\n",
    "\n",
    "    def get_rental_days(self):\n",
    "        return self.__rental_days\n",
    "\n",
    "    def set_rental_days(self, rental_days):\n",
    "        self.__rental_days = rental_days\n",
    "\n",
    "    def calculate_total_cost(self):\n",
    "        return self.__price_per_day * self.__rental_days\n",
    "\n",
    "\n",
    "car_rental = CarRental(\"Toyota Camry\", 50)\n",
    "car_rental.set_rental_days(5)\n",
    "\n",
    "\n",
    "print(f\"Car Name: {car_rental.get_name()}\")\n",
    "print(f\"Price Per Day: ${car_rental.get_price_per_day()}\")\n",
    "print(f\"Rental Days: {car_rental.get_rental_days()}\")\n",
    "print(f\"Total Rental Cost: ${car_rental.calculate_total_cost()}\")\n"
   ]
  }
 ],
 "metadata": {
  "kernelspec": {
   "display_name": "Python 3 (ipykernel)",
   "language": "python",
   "name": "python3"
  },
  "language_info": {
   "codemirror_mode": {
    "name": "ipython",
    "version": 3
   },
   "file_extension": ".py",
   "mimetype": "text/x-python",
   "name": "python",
   "nbconvert_exporter": "python",
   "pygments_lexer": "ipython3",
   "version": "3.12.7"
  }
 },
 "nbformat": 4,
 "nbformat_minor": 5
}
