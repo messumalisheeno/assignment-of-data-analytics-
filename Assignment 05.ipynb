{
 "cells": [
  {
   "cell_type": "markdown",
   "id": "56d74cf0-b1bb-436f-a243-08a0f45243f2",
   "metadata": {},
   "source": [
    "1. Write a Python function called add_numbers that takes two numbers as arguments and returns their sum. Then, test the function by calling it with two numbers of your choice."
   ]
  },
  {
   "cell_type": "code",
   "execution_count": 6,
   "id": "6b8cabe2-2de8-4675-ae66-3e62bef0468c",
   "metadata": {},
   "outputs": [
    {
     "data": {
      "text/plain": [
       "10"
      ]
     },
     "execution_count": 6,
     "metadata": {},
     "output_type": "execute_result"
    }
   ],
   "source": [
    "def add_numbers(a=4,b=6):\n",
    "    return a+b\n",
    "add_numbers()"
   ]
  },
  {
   "cell_type": "code",
   "execution_count": 8,
   "id": "2fbf1021-4e91-414d-843f-afd1b512740f",
   "metadata": {},
   "outputs": [
    {
     "data": {
      "text/plain": [
       "6"
      ]
     },
     "execution_count": 8,
     "metadata": {},
     "output_type": "execute_result"
    }
   ],
   "source": [
    "add_numbers(2,4)"
   ]
  },
  {
   "cell_type": "markdown",
   "id": "099922c1-cc0a-4aba-81a8-fa0e54d5fcbf",
   "metadata": {},
   "source": [
    "2. Write a Python function count_vowels that accepts a string and returns the number of vowels (a, e, i, o, u) in that string.\n",
    "- Example: 'Orange'\n",
    "- Output: 3 vowels\n"
   ]
  },
  {
   "cell_type": "code",
   "execution_count": 38,
   "id": "281abbf3-456d-4501-998f-0ecbffe706c5",
   "metadata": {},
   "outputs": [
    {
     "name": "stdout",
     "output_type": "stream",
     "text": [
      "The number of vowels in Orange is : 3\n"
     ]
    }
   ],
   "source": [
    "def count_vowels(string):\n",
    "    vowels = (\"aeiouAEIOU\")\n",
    "    count = 0\n",
    "    for char in string:\n",
    "        if char in vowels:\n",
    "            count += 1\n",
    "    return count\n",
    "string = \"Orange\"\n",
    "vowels_count = count_vowels(string)\n",
    "print(f\"The number of vowels in {string} is : {vowels_count}\")"
   ]
  },
  {
   "cell_type": "code",
   "execution_count": 40,
   "id": "06fa57e2-3f50-449e-a7ea-7266c19f9169",
   "metadata": {},
   "outputs": [
    {
     "data": {
      "text/plain": [
       "2"
      ]
     },
     "execution_count": 40,
     "metadata": {},
     "output_type": "execute_result"
    }
   ],
   "source": [
    "count_vowels(\"yellow\")"
   ]
  },
  {
   "cell_type": "markdown",
   "id": "96114301-5030-4da4-89d9-c04b886e478f",
   "metadata": {},
   "source": [
    "3. Create a Python function called currency_converter() that takes two arguments:\n",
    "\n",
    "- amount: The amount of money to be converted (in USD).\n",
    "- exchange_rate (default is 280): The conversion rate from USD to another currency (e.g., PKR). You can assume the default rate is 1 USD = 280 PKR.\n",
    "\n",
    "The function should return a message showing how much the given amount is worth in the target currency (PKR)."
   ]
  },
  {
   "cell_type": "code",
   "execution_count": null,
   "id": "4e223ba7-8f58-4333-9f37-8fb87aa1dac8",
   "metadata": {},
   "outputs": [],
   "source": [
    "def currency_converter(Amount,exchange_rate=280):\n",
    "    \n",
    "    "
   ]
  },
  {
   "cell_type": "markdown",
   "id": "43b11c4c-9311-40e5-9975-1cb4e3d28fde",
   "metadata": {},
   "source": [
    "4. Write a Python function display_student_info that accepts the following details about a student:\n",
    "\n",
    "- name (Keyword argument): The name of the student.\n",
    "- age (Keyword argument): The age of the student.\n",
    "- grade (Keyword argument): The grade the student is in.\n",
    "- school (Keyword argument): The name of the school the student attends."
   ]
  },
  {
   "cell_type": "code",
   "execution_count": 78,
   "id": "583467d8-379e-4001-a55a-1ea101a851ef",
   "metadata": {},
   "outputs": [
    {
     "name": "stdout",
     "output_type": "stream",
     "text": [
      "The Student Name Is: Messum ali \n",
      "The Age Of Student Is: 19 \n",
      "The Grade The Student Is In: 12 \n",
      "The Name Of The School The Student Attend: Bahria College \n"
     ]
    }
   ],
   "source": [
    "def display_student_info(Name,Age,Grade,School):\n",
    "    print(f\"The Student Name Is: {Name} \")\n",
    "    print(f\"The Age Of Student Is: {Age} \")\n",
    "    print(f\"The Grade The Student Is In: {Grade} \")\n",
    "    print(f\"The Name Of The School The Student Attend: {School} \")\n",
    "display_student_info( Name = \"Messum ali\",Age = 19,Grade = 12,School = \"Bahria College\")"
   ]
  },
  {
   "cell_type": "code",
   "execution_count": 80,
   "id": "406d178e-ce8a-452b-9106-bf05eb10db82",
   "metadata": {},
   "outputs": [
    {
     "name": "stdout",
     "output_type": "stream",
     "text": [
      "The Student Name Is: jawad \n",
      "The Age Of Student Is: 13 \n",
      "The Grade The Student Is In: 8 \n",
      "The Name Of The School The Student Attend: BeacanHouse School \n"
     ]
    }
   ],
   "source": [
    "display_student_info(Name=\"jawad\",Age=13,Grade=8,School=\"BeacanHouse School\")"
   ]
  },
  {
   "cell_type": "markdown",
   "id": "cadcf261-f205-4fb8-b94d-1a6f1ea68242",
   "metadata": {},
   "source": [
    "5. Write a Python function calculate_price that accepts two positional arguments:\n",
    "\n",
    "- price: The price of a single item.\n",
    "- quantity: The number of items bought.\n",
    "- The function should return the total price by multiplying price and quantity."
   ]
  },
  {
   "cell_type": "code",
   "execution_count": 9,
   "id": "823819d5-c95f-46c3-87f2-77b59aa13c80",
   "metadata": {},
   "outputs": [
    {
     "name": "stdout",
     "output_type": "stream",
     "text": [
      "the Total Price is: 50\n"
     ]
    }
   ],
   "source": [
    "def calculate_price(price,quantity):\n",
    "    total_price = price*quantity\n",
    "    print(f\"the Total Price is: {total_price}\")\n",
    "calculate_price(price=10,quantity=5)"
   ]
  },
  {
   "cell_type": "markdown",
   "id": "26ac9581-0e0c-4a46-ba26-a2b33050f85c",
   "metadata": {},
   "source": [
    "6. Write a Python function display_prices that takes a product name and an arbitrary number of keyword arguments representing product prices. The function should display each product and its price.\n",
    "\n",
    "- Product: Laptop\n",
    "- Amazon: $800\n",
    "\n",
    "- eBay: $750\n",
    "  \n",
    "- Walmart: $780\n"
   ]
  },
  {
   "cell_type": "code",
   "execution_count": 14,
   "id": "ced39fcc-f8da-4fdc-8180-c479a89260b6",
   "metadata": {},
   "outputs": [
    {
     "name": "stdout",
     "output_type": "stream",
     "text": [
      "Product: Laptop\n",
      "Amazon:800\n",
      "eBay:750\n",
      "Wakmart:780\n"
     ]
    }
   ],
   "source": [
    "def display_prices(product_name,**prices):\n",
    "    print(f\"Product: {product_name}\")\n",
    "    for retailer,price in prices.items():\n",
    "        print(f\"{retailer}:{price}\")\n",
    "    \n",
    "display_prices(\"Laptop\",Amazon=800,eBay=750,Wakmart=780)"
   ]
  },
  {
   "cell_type": "markdown",
   "id": "6c5cf204-3b6a-4a2a-a57b-57d3540f458b",
   "metadata": {},
   "source": [
    "7. Write a Python function find_max that takes any number of numerical arguments and returns the maximum number."
   ]
  },
  {
   "cell_type": "code",
   "execution_count": 53,
   "id": "9d7b2362-eb4b-4e2d-99c6-2885fde60440",
   "metadata": {},
   "outputs": [
    {
     "data": {
      "text/plain": [
       "50"
      ]
     },
     "execution_count": 53,
     "metadata": {},
     "output_type": "execute_result"
    }
   ],
   "source": [
    "def find_max(*args):\n",
    "    return max(args)\n",
    "\n",
    "find_max(10,20,30,50,25,15)"
   ]
  },
  {
   "cell_type": "markdown",
   "id": "2dcda706-683e-4fe6-819c-f957f6e46076",
   "metadata": {},
   "source": [
    "8. Write a Python function display_info that takes:\n",
    "\n",
    "- Positional arguments for the name and age of a person.\n",
    "- Keyword arguments for other personal details like address, phone number, and email.\n",
    "\n",
    "Example Output:\n",
    "\n",
    "- Name: Alice\n",
    "- Age: 30\n",
    "- Other Details:\n",
    "    - address: 123 Main St\n",
    "    - phone: 123-456-7890\n",
    "    - email: alice@example.com\n"
   ]
  },
  {
   "cell_type": "code",
   "execution_count": 32,
   "id": "3d2fb874-f077-42b2-a3cd-8d28e42ee75c",
   "metadata": {},
   "outputs": [
    {
     "name": "stdout",
     "output_type": "stream",
     "text": [
      "Name:Messum ALi\n",
      "Age:19\n",
      "Other Details:\n",
      "address:gulistan-e-johar\n",
      "phone:92313131333\n",
      "email:messumali53@gmail.com\n"
     ]
    }
   ],
   "source": [
    "def display_info(name,age,**other_details):\n",
    "    print(f\"Name:{name}\")\n",
    "    print(f\"Age:{age}\")\n",
    "    if other_details:\n",
    "        print(\"Other Details:\")\n",
    "        for key,value in other_details.items():\n",
    "            print(f\"{key}:{value}\")\n",
    "    \n",
    "\n",
    "display_info(\"Messum ALi\",19,address=\"gulistan-e-johar\",phone=92313131333,email=\"messumali53@gmail.com\")"
   ]
  },
  {
   "cell_type": "markdown",
   "id": "c8f541d5-f094-4490-8757-9f89d91eb6a0",
   "metadata": {},
   "source": [
    "9. Write a Python function calculate_rectangle that accepts the length and width of a rectangle as arguments. Inside this function, create two nested functions:\n",
    "\n",
    "- calculate_area: This function should calculate the area of the rectangle.\n",
    "- calculate_perimeter: This function should calculate the perimeter of the rectangle.\n",
    "- The main function should return both the area and the perimeter of the rectangle."
   ]
  },
  {
   "cell_type": "code",
   "execution_count": 24,
   "id": "8c736c23-0019-4002-a488-3d4838c48fa3",
   "metadata": {},
   "outputs": [
    {
     "name": "stdout",
     "output_type": "stream",
     "text": [
      "Area: 15\n",
      "Perimeter: 16\n"
     ]
    }
   ],
   "source": [
    "def calculate_rectangle(length,width):\n",
    "    def calculate_area():\n",
    "        return length*width\n",
    "    def calculate_perimeter():\n",
    "        return 2*(length + width)\n",
    "    area = calculate_area()\n",
    "    perimeter = calculate_perimeter()\n",
    "    return area,perimeter\n",
    "    \n",
    "\n",
    "area,perimeter =calculate_rectangle(length=5,width=3)\n",
    "print(f\"Area: {area}\")\n",
    "print(f\"Perimeter: {perimeter}\")"
   ]
  },
  {
   "cell_type": "markdown",
   "id": "fc653ea8-3ac5-4241-854d-d356fdb5f55e",
   "metadata": {},
   "source": [
    "\n",
    "Q 10.\n",
    "\n",
    "products = [\n",
    "    {\"name\": \"Laptop\", \"price\": 1200, \"in_stock\": True, \"discount\": 0.1},\n",
    "    {\"name\": \"Smartphone\", \"price\": 800, \"in_stock\": False, \"discount\": 0.05},\n",
    "    {\"name\": \"Headphones\", \"price\": 150, \"in_stock\": True, \"discount\": 0.2},\n",
    "    {\"name\": \"Smartwatch\", \"price\": 300, \"in_stock\": True, \"discount\": 0},\n",
    "    {\"name\": \"Keyboard\", \"price\": 100, \"in_stock\": True, \"discount\": 0.15}\n",
    "]\n",
    "\n",
    "- Get names of in-stock products:\n",
    "\n",
    "  *Use list comprehension to generate a list of names for the products that are in stock.\n",
    "                                            \n",
    "- Calculate final prices for in-stock products after discount:\n",
    "\n",
    "    *For products that have a discount, calculate the final price by applying the discount.\n",
    "\n",
    "  \n",
    "    *For products with no discount, keep the original price.\n",
    "                                            \n",
    "- Generate a list of tuples with the product name and its final price.\n",
    "\n",
    "Example Output:\n",
    "\n",
    "- In-stock product names: ['Laptop', 'Headphones', 'Smartwatch', 'Keyboard']\n",
    "- Discounted prices: [('Laptop', 1080.0), ('Headphones', 120.0), ('Smartwatch', 300), ('Keyboard', 85.0)]\n"
   ]
  },
  {
   "cell_type": "code",
   "execution_count": 31,
   "id": "d06f52be-c0c1-4a73-b23a-47817de40cb1",
   "metadata": {},
   "outputs": [
    {
     "name": "stdout",
     "output_type": "stream",
     "text": [
      "In-stock product names: ['Laptop', 'Headphones', 'Smartwatch', 'Keyboard']\n",
      "Discounted prices: [('Laptop', 1080.0), ('Headphones', 120.0), ('Smartwatch', 300), ('Keyboard', 85.0)]\n"
     ]
    }
   ],
   "source": [
    "products = [\n",
    "    {\"name\": \"Laptop\", \"price\": 1200, \"in_stock\": True, \"discount\": 0.1},\n",
    "    {\"name\": \"Smartphone\", \"price\": 800, \"in_stock\": False, \"discount\": 0.05},\n",
    "    {\"name\": \"Headphones\", \"price\": 150, \"in_stock\": True, \"discount\": 0.2},\n",
    "    {\"name\": \"Smartwatch\", \"price\": 300, \"in_stock\": True, \"discount\": 0},\n",
    "    {\"name\": \"Keyboard\", \"price\": 100, \"in_stock\": True, \"discount\": 0.15}\n",
    "]\n",
    "in_stock_product_names = [product[\"name\"] for product in products if product[\"in_stock\"]]\n",
    "discounted_prices = [\n",
    "    (product[\"name\"], product[\"price\"] * (1 - product[\"discount\"]))\n",
    "    if product[\"discount\"] > 0 else (product[\"name\"], product[\"price\"])\n",
    "    for product in products if product[\"in_stock\"]\n",
    "]\n",
    "print(f\"In-stock product names: {in_stock_product_names}\")\n",
    "print(f\"Discounted prices: {discounted_prices}\")\n"
   ]
  },
  {
   "cell_type": "code",
   "execution_count": null,
   "id": "29ba6b50-c3e6-4473-b8e3-17c148f1acb5",
   "metadata": {},
   "outputs": [],
   "source": []
  }
 ],
 "metadata": {
  "kernelspec": {
   "display_name": "Python 3 (ipykernel)",
   "language": "python",
   "name": "python3"
  },
  "language_info": {
   "codemirror_mode": {
    "name": "ipython",
    "version": 3
   },
   "file_extension": ".py",
   "mimetype": "text/x-python",
   "name": "python",
   "nbconvert_exporter": "python",
   "pygments_lexer": "ipython3",
   "version": "3.12.7"
  }
 },
 "nbformat": 4,
 "nbformat_minor": 5
}
