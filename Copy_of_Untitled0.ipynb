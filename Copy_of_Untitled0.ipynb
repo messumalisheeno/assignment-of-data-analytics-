{
  "nbformat": 4,
  "nbformat_minor": 0,
  "metadata": {
    "colab": {
      "provenance": [],
      "collapsed_sections": [
        "kGf1IxJB1Wsa"
      ],
      "authorship_tag": "ABX9TyMGpFHl6VN0UzwQJSI+Dk2i",
      "include_colab_link": true
    },
    "kernelspec": {
      "name": "python3",
      "display_name": "Python 3"
    },
    "language_info": {
      "name": "python"
    }
  },
  "cells": [
    {
      "cell_type": "markdown",
      "metadata": {
        "id": "view-in-github",
        "colab_type": "text"
      },
      "source": [
        "<a href=\"https://colab.research.google.com/github/messumalisheeno/assignment-of-data-analytics-/blob/master/Copy_of_Untitled0.ipynb\" target=\"_parent\"><img src=\"https://colab.research.google.com/assets/colab-badge.svg\" alt=\"Open In Colab\"/></a>"
      ]
    },
    {
      "cell_type": "code",
      "source": [
        "num1 = int(input(\"enter your first number\"))\n",
        "num2 = int(input(\"enter your second number\"))\n",
        "operation = input(\"enter your operation(+ , - , * , / ,):\")\n",
        "\n",
        "def calculator():\n",
        "  if operation == \"+\":\n",
        "    result = num1 + num2\n",
        "    print(result)\n",
        "  elif operation == \"-\":\n",
        "    result = num1 - num2\n",
        "    print(result)\n",
        "  elif operation == \"*\":\n",
        "    result = num1 * num2\n",
        "    print(result)\n",
        "  elif operation == \"/\":\n",
        "    result = num1 / num2\n",
        "    print(result)\n",
        "calculator()"
      ],
      "metadata": {
        "colab": {
          "base_uri": "https://localhost:8080/"
        },
        "id": "jzvoC6gdyvpt",
        "outputId": "f82f3d64-0183-4311-8026-0dc777551642"
      },
      "execution_count": null,
      "outputs": [
        {
          "output_type": "stream",
          "name": "stdout",
          "text": [
            "enter your first number35\n",
            "enter your second number45\n",
            "enter your operation(+ , - , * , / ,):+\n",
            "80\n"
          ]
        }
      ]
    },
    {
      "cell_type": "markdown",
      "source": [
        "# New Section"
      ],
      "metadata": {
        "id": "kGf1IxJB1Wsa"
      }
    },
    {
      "cell_type": "code",
      "source": [],
      "metadata": {
        "id": "jg7hnyW2yv-O"
      },
      "execution_count": null,
      "outputs": []
    },
    {
      "cell_type": "code",
      "source": [],
      "metadata": {
        "id": "yNSRCogOwrzX"
      },
      "execution_count": null,
      "outputs": []
    }
  ]
}