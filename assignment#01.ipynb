{
 "cells": [
  {
   "cell_type": "code",
   "execution_count": 7,
   "id": "cd48d4ba-326a-42bf-bf24-ee63c97ac7ae",
   "metadata": {},
   "outputs": [],
   "source": [
    "salaries =['20k','40k','50k','60k','35k','89k','40k']"
   ]
  },
  {
   "cell_type": "code",
   "execution_count": 4,
   "id": "ef3bc7de-436a-4682-b74c-68206d23c69a",
   "metadata": {},
   "outputs": [
    {
     "data": {
      "text/plain": [
       "['20k', '40k', '50k', '60k', '35k', '89k', '40k']"
      ]
     },
     "execution_count": 4,
     "metadata": {},
     "output_type": "execute_result"
    }
   ],
   "source": [
    "salaries"
   ]
  },
  {
   "cell_type": "code",
   "execution_count": 8,
   "id": "91cc52de-95ad-435a-add8-bf3bf80acc96",
   "metadata": {},
   "outputs": [
    {
     "data": {
      "text/plain": [
       "7"
      ]
     },
     "execution_count": 8,
     "metadata": {},
     "output_type": "execute_result"
    }
   ],
   "source": [
    "len(salaries) #ANS NO 1"
   ]
  },
  {
   "cell_type": "code",
   "execution_count": 23,
   "id": "5eb85961-87cc-4eec-a4f2-2bfabc804e4f",
   "metadata": {},
   "outputs": [],
   "source": [
    "third_salary = salaries[2]"
   ]
  },
  {
   "cell_type": "code",
   "execution_count": 29,
   "id": "dca08521-dfe8-4df2-a0cb-742039f3b095",
   "metadata": {},
   "outputs": [
    {
     "data": {
      "text/plain": [
       "'50k'"
      ]
     },
     "execution_count": 29,
     "metadata": {},
     "output_type": "execute_result"
    }
   ],
   "source": [
    "third_salary #ANS NO 2"
   ]
  },
  {
   "cell_type": "code",
   "execution_count": 12,
   "id": "3ae6337f-d694-42fb-a24f-58be9a27cddf",
   "metadata": {},
   "outputs": [
    {
     "data": {
      "text/plain": [
       "'40k'"
      ]
     },
     "execution_count": 12,
     "metadata": {},
     "output_type": "execute_result"
    }
   ],
   "source": [
    "salaries[-1] #ANS NO 3"
   ]
  },
  {
   "cell_type": "code",
   "execution_count": 16,
   "id": "4abe319e-83f7-42e0-812e-282985d5fb52",
   "metadata": {},
   "outputs": [
    {
     "data": {
      "text/plain": [
       "['50k', '60k', '35k']"
      ]
     },
     "execution_count": 16,
     "metadata": {},
     "output_type": "execute_result"
    }
   ],
   "source": [
    "salaries[2:5] #ANS NO 4"
   ]
  },
  {
   "cell_type": "code",
   "execution_count": 18,
   "id": "04dab00f-dbc5-48eb-bb92-b694bf928890",
   "metadata": {},
   "outputs": [],
   "source": [
    "salaries.append('100k') #ANS NO 5"
   ]
  },
  {
   "cell_type": "code",
   "execution_count": 20,
   "id": "3f24aea4-fc89-4855-9928-8da09f6b1e59",
   "metadata": {},
   "outputs": [
    {
     "data": {
      "text/plain": [
       "['20k', '40k', '50k', '60k', '35k', '89k', '40k', '100k']"
      ]
     },
     "execution_count": 20,
     "metadata": {},
     "output_type": "execute_result"
    }
   ],
   "source": [
    "salaries"
   ]
  },
  {
   "cell_type": "code",
   "execution_count": 24,
   "id": "a67f53c1-5df3-4e74-b918-b2ec7b2ca5e6",
   "metadata": {},
   "outputs": [
    {
     "data": {
      "text/plain": [
       "['20k', '40k', '50k', '60k', '35k', '89k', '40k', '100k', '120k']"
      ]
     },
     "execution_count": 24,
     "metadata": {},
     "output_type": "execute_result"
    }
   ],
   "source": [
    "salaries + ['120k'] #ANS NO 6"
   ]
  },
  {
   "cell_type": "code",
   "execution_count": 26,
   "id": "4b3f2754-cc1a-4dab-9f0d-d23bfa3528c9",
   "metadata": {},
   "outputs": [],
   "source": [
    "salaries[2]='55k' #ANS NO 7"
   ]
  },
  {
   "cell_type": "code",
   "execution_count": 28,
   "id": "b06a25a4-3acc-499b-8e7b-bb1fa3780f1e",
   "metadata": {},
   "outputs": [
    {
     "data": {
      "text/plain": [
       "['20k', '40k', '55k', '60k', '35k', '89k', '40k', '100k']"
      ]
     },
     "execution_count": 28,
     "metadata": {},
     "output_type": "execute_result"
    }
   ],
   "source": [
    "salaries"
   ]
  },
  {
   "cell_type": "code",
   "execution_count": 32,
   "id": "80f33db4-2e8a-4d04-a435-1ee32040c456",
   "metadata": {},
   "outputs": [
    {
     "data": {
      "text/plain": [
       "2"
      ]
     },
     "execution_count": 32,
     "metadata": {},
     "output_type": "execute_result"
    }
   ],
   "source": [
    "salaries.count('40k') #ANS NO 8"
   ]
  },
  {
   "cell_type": "code",
   "execution_count": 34,
   "id": "8e3f138b-025b-457f-8fe4-bad043281463",
   "metadata": {},
   "outputs": [],
   "source": [
    "salaries[1]='30k' #ANS NO 9"
   ]
  },
  {
   "cell_type": "code",
   "execution_count": 36,
   "id": "68840ab9-2eab-4cc2-890f-06c928a932ce",
   "metadata": {},
   "outputs": [
    {
     "data": {
      "text/plain": [
       "['20k', '30k', '55k', '60k', '35k', '89k', '40k', '100k']"
      ]
     },
     "execution_count": 36,
     "metadata": {},
     "output_type": "execute_result"
    }
   ],
   "source": [
    "salaries"
   ]
  },
  {
   "cell_type": "code",
   "execution_count": 48,
   "id": "77231861-5469-4bfe-9ef7-225dc8c8b5d5",
   "metadata": {},
   "outputs": [],
   "source": [
    "salaries.reverse() #ANS NO 10"
   ]
  },
  {
   "cell_type": "code",
   "execution_count": 46,
   "id": "4affd2b0-62b5-4ebd-8278-c396c44271ba",
   "metadata": {},
   "outputs": [
    {
     "data": {
      "text/plain": [
       "['100k', '40k', '89k', '35k', '60k', '55k', '30k', '20k']"
      ]
     },
     "execution_count": 46,
     "metadata": {},
     "output_type": "execute_result"
    }
   ],
   "source": [
    "salaries"
   ]
  },
  {
   "cell_type": "code",
   "execution_count": 70,
   "id": "6fb1774b-d21b-4007-a85f-3b4f0277dda4",
   "metadata": {},
   "outputs": [
    {
     "data": {
      "text/plain": [
       "['100k', '40k', '89k', '35k', '60k', '55k', '30k', '20k']"
      ]
     },
     "execution_count": 70,
     "metadata": {},
     "output_type": "execute_result"
    }
   ],
   "source": [
    "salaries[::-1] #ANS NO 11"
   ]
  },
  {
   "cell_type": "code",
   "execution_count": null,
   "id": "a8fa647c-2622-4229-89af-747ec2761004",
   "metadata": {},
   "outputs": [],
   "source": []
  }
 ],
 "metadata": {
  "kernelspec": {
   "display_name": "Python 3 (ipykernel)",
   "language": "python",
   "name": "python3"
  },
  "language_info": {
   "codemirror_mode": {
    "name": "ipython",
    "version": 3
   },
   "file_extension": ".py",
   "mimetype": "text/x-python",
   "name": "python",
   "nbconvert_exporter": "python",
   "pygments_lexer": "ipython3",
   "version": "3.12.7"
  }
 },
 "nbformat": 4,
 "nbformat_minor": 5
}
